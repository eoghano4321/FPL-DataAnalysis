{
 "cells": [
  {
   "cell_type": "code",
   "execution_count": 1,
   "metadata": {},
   "outputs": [],
   "source": [
    "# This Python 3 environment comes with many helpful analytics libraries installed\n",
    "# It is defined by the kaggle/python Docker image: https://github.com/kaggle/docker-python\n",
    "# For example, here's several helpful packages to load\n",
    "\n",
    "\n",
    "import numpy as np # linear algebra\n",
    "import pandas as pd # data processing, CSV file I/O (e.g. pd.read_csv)\n",
    "import matplotlib.pyplot as plt\n",
    "# pip install seaborn\n",
    "import seaborn as sns\n",
    "\n",
    "# Input data files are available in the read-only \"../input/\" directory\n",
    "# For example, running this (by clicking run or pressing Shift+Enter) will list all files under the input directory\n",
    "\n",
    "import os\n",
    "# for dirname, _, filenames in os.walk('/kaggle/input'):\n",
    "#     for filename in filenames:\n",
    "#         print(os.path.join(dirname, filename))\n",
    "\n",
    "# You can write up to 20GB to the current directory (/kaggle/working/) that gets preserved as output when you create a version using \"Save & Run All\" \n",
    "# You can also write temporary files to /kaggle/temp/, but they won't be saved outside of the current session"
   ]
  },
  {
   "attachments": {},
   "cell_type": "markdown",
   "metadata": {},
   "source": [
    "# Fantasy Premier League Data Set\n",
    "### Authors: John Foley, Conor Glynn and Eoghan O'Mahony.\n",
    "Here is an overview of the dataset.\n",
    "<br> <br>\n",
    "The type of data that is included in the dataset is data on players, matches and the fantasy points from the 2016/2017 season until the 2022/2023 season. We decided that the target of our data would be to try to figure out the value or the price change of a player, from one week to the next. The total size of the dataset that we will be looking at is 117Mb. The sampling frequency is every week which has a match being played.\n",
    "<br> <br>\n",
    "The whole dataset is available on GitHub by this link: https://github.com/vaastav/Fantasy-Premier-League"
   ]
  },
  {
   "attachments": {},
   "cell_type": "markdown",
   "metadata": {},
   "source": [
    "### Goal of Our Analysis\n",
    "The main goal that we want to achieve is that we want to perform a regression calculation on all of the players’ values. We want to be able to use training data to make an accurate model so that it could take the testing data and it could give a correct answer. "
   ]
  },
  {
   "attachments": {},
   "cell_type": "markdown",
   "metadata": {},
   "source": [
    "As we can see here, we have a correlation matrix. This includes all of the features that are in the csv file. Our target is the value column. We can see in this matrix that there are a few columns that are fairly correlated to it; such as selected and creativity for example."
   ]
  },
  {
   "attachments": {},
   "cell_type": "markdown",
   "metadata": {},
   "source": [
    "One important thing to note is the phrase: \"correlation doesn't equal causation\". In this way, the correlation of two or more features doesn’t necessarily mean that one is caused by the other. However, it is still very useful to look at the correlation matrix."
   ]
  },
  {
   "attachments": {},
   "cell_type": "markdown",
   "metadata": {},
   "source": [
    "### Exploratory Analysis of Our Dataset\n",
    "Here are some graphs that we will use to explore our dataset. The x-axis represents the gameweek and the y-axis represents the value that a certain feature had in that gameweek (depending on the line in question). These lines represent:\n",
    "* Value in blue, \n",
    "* Points Gained in orange,\n",
    "* Transfers In in the given gameweek in green,\n",
    "* Transfers Out in the given gameweek in red.\n",
    "\n",
    "As we can see there are some very interesting things happening to these features. We can see for example that in the week Salah got a lot of points, he was transferred in a great deal the next week. We can also see that sometimes he didn’t have his best week and so in the following week, he wasn’t transferred in as much. He must have had a very bad week in week 8 because he was transferred out a very high amount the following week. With our target, value, we can see that his value is fluctuating, based on the other factors that is going on in that gameweek."
   ]
  },
  {
   "attachments": {},
   "cell_type": "markdown",
   "metadata": {},
   "source": [
    "The diagrams below examples of two pair plots that we created. These plots basically show the distribution of players for a certain feature. The x-axis is the cumulative points in plot 1 and is value in the other. The y-axis is the number of players that had these cumulative points/value. There are a lot of players that have low cumulative points/low value and as we go to the right of each graph we can see that there are very few players with high cumulative points/high value. We can see that these two graphs have very similar distributions which suggests to us that they may be highly correlated. This is interesting to us as the value is our target."
   ]
  },
  {
   "attachments": {},
   "cell_type": "markdown",
   "metadata": {},
   "source": [
    "### Data Cleaning\n",
    "The first step of the data cleaning is to find out the amount of null values that is in our dataframe. An easy way that we can do this is by printing the number of null values that are present in our dataframe. If we get an answer of 0 we will know that our dataframe has zero NaN values."
   ]
  },
  {
   "cell_type": "code",
   "execution_count": 2,
   "metadata": {},
   "outputs": [
    {
     "name": "stdout",
     "output_type": "stream",
     "text": [
      "We have 49570 NaN/Null values in this dataset\n"
     ]
    },
    {
     "name": "stderr",
     "output_type": "stream",
     "text": [
      "C:\\Users\\22352155\\AppData\\Local\\Temp\\ipykernel_20564\\1094262755.py:1: DtypeWarning: Columns (4) have mixed types. Specify dtype option on import or set low_memory=False.\n",
      "  dfClean1 = pd.read_csv('data/cleaned_merged_seasons.csv')\n"
     ]
    }
   ],
   "source": [
    "dfClean1 = pd.read_csv('data/cleaned_merged_seasons.csv')\n",
    "print('We have {} NaN/Null values in this dataset'.format(dfClean1.isnull().values.sum()))"
   ]
  },
  {
   "attachments": {},
   "cell_type": "markdown",
   "metadata": {},
   "source": [
    "The next thing that we can do is we can use \"df_Name.info()\". This will show us all of the columns in the dataframe and the number of non-null values each one has. With this, we can easily see which columns we need to work on. We generate this result:"
   ]
  },
  {
   "cell_type": "code",
   "execution_count": 3,
   "metadata": {},
   "outputs": [
    {
     "name": "stdout",
     "output_type": "stream",
     "text": [
      "<class 'pandas.core.frame.DataFrame'>\n",
      "RangeIndex: 98402 entries, 0 to 98401\n",
      "Data columns (total 38 columns):\n",
      " #   Column             Non-Null Count  Dtype  \n",
      "---  ------             --------------  -----  \n",
      " 0   Unnamed: 0         98402 non-null  int64  \n",
      " 1   season_x           98402 non-null  object \n",
      " 2   name               98402 non-null  object \n",
      " 3   position           98402 non-null  object \n",
      " 4   team_x             48930 non-null  object \n",
      " 5   assists            98402 non-null  int64  \n",
      " 6   bonus              98402 non-null  int64  \n",
      " 7   bps                98402 non-null  int64  \n",
      " 8   clean_sheets       98402 non-null  int64  \n",
      " 9   creativity         98402 non-null  float64\n",
      " 10  element            98402 non-null  int64  \n",
      " 11  fixture            98402 non-null  int64  \n",
      " 12  goals_conceded     98402 non-null  int64  \n",
      " 13  goals_scored       98402 non-null  int64  \n",
      " 14  ict_index          98402 non-null  float64\n",
      " 15  influence          98402 non-null  float64\n",
      " 16  kickoff_time       98402 non-null  object \n",
      " 17  minutes            98402 non-null  int64  \n",
      " 18  opponent_team      98402 non-null  int64  \n",
      " 19  opp_team_name      98402 non-null  object \n",
      " 20  own_goals          98402 non-null  int64  \n",
      " 21  penalties_missed   98402 non-null  int64  \n",
      " 22  penalties_saved    98402 non-null  int64  \n",
      " 23  red_cards          98402 non-null  int64  \n",
      " 24  round              98402 non-null  int64  \n",
      " 25  saves              98402 non-null  int64  \n",
      " 26  selected           98402 non-null  int64  \n",
      " 27  team_a_score       98353 non-null  float64\n",
      " 28  team_h_score       98353 non-null  float64\n",
      " 29  threat             98402 non-null  float64\n",
      " 30  total_points       98402 non-null  int64  \n",
      " 31  transfers_balance  98402 non-null  int64  \n",
      " 32  transfers_in       98402 non-null  int64  \n",
      " 33  transfers_out      98402 non-null  int64  \n",
      " 34  value              98402 non-null  int64  \n",
      " 35  was_home           98402 non-null  bool   \n",
      " 36  yellow_cards       98402 non-null  int64  \n",
      " 37  GW                 98402 non-null  int64  \n",
      "dtypes: bool(1), float64(6), int64(25), object(6)\n",
      "memory usage: 27.9+ MB\n"
     ]
    }
   ],
   "source": [
    "pd.set_option(\"display.max_columns\", None)\n",
    "dfClean1.info()"
   ]
  },
  {
   "attachments": {},
   "cell_type": "markdown",
   "metadata": {},
   "source": [
    "After viewing all of the columns fully, we can see that there are 3 columns that contain null values. These are 'team_x', 'team_a_score' and 'team_h_score'. 'team_x' represents the team that the player is playing for in that gameweek, 'team_a_score' is the number of goals that the away team scored and 'team_h_score' is the number of goals that the home team scored."
   ]
  },
  {
   "attachments": {},
   "cell_type": "markdown",
   "metadata": {},
   "source": [
    "Next we can look at the shape of the dataframe and get additional information about it with the following."
   ]
  },
  {
   "cell_type": "code",
   "execution_count": 4,
   "metadata": {},
   "outputs": [
    {
     "data": {
      "text/plain": [
       "(98402, 38)"
      ]
     },
     "execution_count": 4,
     "metadata": {},
     "output_type": "execute_result"
    }
   ],
   "source": [
    "dfClean1.shape"
   ]
  },
  {
   "attachments": {},
   "cell_type": "markdown",
   "metadata": {},
   "source": [
    "We can now subtract the total number of non-null values that should be in any column with the actual number of non-null values that we have in the column labelled 'team_x'. With this, we can see the amount of items in this column that has null values."
   ]
  },
  {
   "cell_type": "code",
   "execution_count": 5,
   "metadata": {},
   "outputs": [
    {
     "name": "stdout",
     "output_type": "stream",
     "text": [
      "49472\n"
     ]
    }
   ],
   "source": [
    "print(98402-48930)"
   ]
  },
  {
   "attachments": {},
   "cell_type": "markdown",
   "metadata": {},
   "source": [
    "As we can see, there are 49,472 NaN values in the 'team_x' column. The reason for this is that this column was only added in later seasons and so it didn't exist for earlier seasons. There are far too many missing for us to possibly recover and so we will remove this column."
   ]
  },
  {
   "cell_type": "code",
   "execution_count": 6,
   "metadata": {},
   "outputs": [
    {
     "name": "stdout",
     "output_type": "stream",
     "text": [
      "<class 'pandas.core.frame.DataFrame'>\n",
      "RangeIndex: 98402 entries, 0 to 98401\n",
      "Data columns (total 37 columns):\n",
      " #   Column             Non-Null Count  Dtype  \n",
      "---  ------             --------------  -----  \n",
      " 0   minutes            98402 non-null  int64  \n",
      " 1   season_x           98402 non-null  object \n",
      " 2   assists            98402 non-null  int64  \n",
      " 3   position           98402 non-null  object \n",
      " 4   penalties_missed   98402 non-null  int64  \n",
      " 5   transfers_in       98402 non-null  int64  \n",
      " 6   penalties_saved    98402 non-null  int64  \n",
      " 7   creativity         98402 non-null  float64\n",
      " 8   yellow_cards       98402 non-null  int64  \n",
      " 9   name               98402 non-null  object \n",
      " 10  fixture            98402 non-null  int64  \n",
      " 11  ict_index          98402 non-null  float64\n",
      " 12  threat             98402 non-null  float64\n",
      " 13  transfers_out      98402 non-null  int64  \n",
      " 14  was_home           98402 non-null  bool   \n",
      " 15  round              98402 non-null  int64  \n",
      " 16  kickoff_time       98402 non-null  object \n",
      " 17  GW                 98402 non-null  int64  \n",
      " 18  bonus              98402 non-null  int64  \n",
      " 19  clean_sheets       98402 non-null  int64  \n",
      " 20  opp_team_name      98402 non-null  object \n",
      " 21  total_points       98402 non-null  int64  \n",
      " 22  goals_scored       98402 non-null  int64  \n",
      " 23  opponent_team      98402 non-null  int64  \n",
      " 24  own_goals          98402 non-null  int64  \n",
      " 25  bps                98402 non-null  int64  \n",
      " 26  value              98402 non-null  int64  \n",
      " 27  selected           98402 non-null  int64  \n",
      " 28  element            98402 non-null  int64  \n",
      " 29  influence          98402 non-null  float64\n",
      " 30  team_h_score       98353 non-null  float64\n",
      " 31  saves              98402 non-null  int64  \n",
      " 32  goals_conceded     98402 non-null  int64  \n",
      " 33  team_a_score       98353 non-null  float64\n",
      " 34  transfers_balance  98402 non-null  int64  \n",
      " 35  red_cards          98402 non-null  int64  \n",
      " 36  Unnamed: 0         98402 non-null  int64  \n",
      "dtypes: bool(1), float64(6), int64(25), object(5)\n",
      "memory usage: 27.1+ MB\n"
     ]
    }
   ],
   "source": [
    "#Taking away 'team_x' column\n",
    "featuresGood = list(\n",
    "    set(dfClean1.columns)\n",
    "    - {\n",
    "        \"team_x\",\n",
    "    }\n",
    ")\n",
    "\n",
    "dfClean2 =dfClean1[featuresGood]\n",
    "\n",
    "#info\n",
    "dfClean2.info()"
   ]
  },
  {
   "attachments": {},
   "cell_type": "markdown",
   "metadata": {},
   "source": [
    "We can now see that the 'team_x' column has been removed."
   ]
  },
  {
   "attachments": {},
   "cell_type": "markdown",
   "metadata": {},
   "source": [
    "There are 98 missing values between the two columns: 'team_a_score' and 'team_h_score'. To deal with these we will  now set them to 0. The reason that we chose to do this is that there are so little values that are missing (49 out of 98,402 or only about 0.05% of the data in each of these columns) and so it won't affect the dataframe in any way. A likely reason for this is that 3 or 4 games weren’t recorded correctly into the dataframe. Given that there are 380 games total in a premier league season and there are 6 years recorded, it isn’t too bad that there are only about 4 game's values missing."
   ]
  },
  {
   "cell_type": "code",
   "execution_count": 7,
   "metadata": {},
   "outputs": [
    {
     "name": "stdout",
     "output_type": "stream",
     "text": [
      "<class 'pandas.core.frame.DataFrame'>\n",
      "RangeIndex: 98402 entries, 0 to 98401\n",
      "Data columns (total 37 columns):\n",
      " #   Column             Non-Null Count  Dtype  \n",
      "---  ------             --------------  -----  \n",
      " 0   minutes            98402 non-null  int64  \n",
      " 1   season_x           98402 non-null  object \n",
      " 2   assists            98402 non-null  int64  \n",
      " 3   position           98402 non-null  object \n",
      " 4   penalties_missed   98402 non-null  int64  \n",
      " 5   transfers_in       98402 non-null  int64  \n",
      " 6   penalties_saved    98402 non-null  int64  \n",
      " 7   creativity         98402 non-null  float64\n",
      " 8   yellow_cards       98402 non-null  int64  \n",
      " 9   name               98402 non-null  object \n",
      " 10  fixture            98402 non-null  int64  \n",
      " 11  ict_index          98402 non-null  float64\n",
      " 12  threat             98402 non-null  float64\n",
      " 13  transfers_out      98402 non-null  int64  \n",
      " 14  was_home           98402 non-null  bool   \n",
      " 15  round              98402 non-null  int64  \n",
      " 16  kickoff_time       98402 non-null  object \n",
      " 17  GW                 98402 non-null  int64  \n",
      " 18  bonus              98402 non-null  int64  \n",
      " 19  clean_sheets       98402 non-null  int64  \n",
      " 20  opp_team_name      98402 non-null  object \n",
      " 21  total_points       98402 non-null  int64  \n",
      " 22  goals_scored       98402 non-null  int64  \n",
      " 23  opponent_team      98402 non-null  int64  \n",
      " 24  own_goals          98402 non-null  int64  \n",
      " 25  bps                98402 non-null  int64  \n",
      " 26  value              98402 non-null  int64  \n",
      " 27  selected           98402 non-null  int64  \n",
      " 28  element            98402 non-null  int64  \n",
      " 29  influence          98402 non-null  float64\n",
      " 30  team_h_score       98402 non-null  float64\n",
      " 31  saves              98402 non-null  int64  \n",
      " 32  goals_conceded     98402 non-null  int64  \n",
      " 33  team_a_score       98402 non-null  float64\n",
      " 34  transfers_balance  98402 non-null  int64  \n",
      " 35  red_cards          98402 non-null  int64  \n",
      " 36  Unnamed: 0         98402 non-null  int64  \n",
      "dtypes: bool(1), float64(6), int64(25), object(5)\n",
      "memory usage: 27.1+ MB\n"
     ]
    },
    {
     "name": "stderr",
     "output_type": "stream",
     "text": [
      "C:\\Users\\22352155\\AppData\\Local\\Temp\\ipykernel_20564\\656274839.py:1: SettingWithCopyWarning: \n",
      "A value is trying to be set on a copy of a slice from a DataFrame.\n",
      "Try using .loc[row_indexer,col_indexer] = value instead\n",
      "\n",
      "See the caveats in the documentation: https://pandas.pydata.org/pandas-docs/stable/user_guide/indexing.html#returning-a-view-versus-a-copy\n",
      "  dfClean2['team_a_score'] = dfClean2['team_a_score'].fillna(0)\n",
      "C:\\Users\\22352155\\AppData\\Local\\Temp\\ipykernel_20564\\656274839.py:2: SettingWithCopyWarning: \n",
      "A value is trying to be set on a copy of a slice from a DataFrame.\n",
      "Try using .loc[row_indexer,col_indexer] = value instead\n",
      "\n",
      "See the caveats in the documentation: https://pandas.pydata.org/pandas-docs/stable/user_guide/indexing.html#returning-a-view-versus-a-copy\n",
      "  dfClean2['team_h_score'] = dfClean2['team_h_score'].fillna(0)\n"
     ]
    }
   ],
   "source": [
    "dfClean2['team_a_score'] = dfClean2['team_a_score'].fillna(0)\n",
    "dfClean2['team_h_score'] = dfClean2['team_h_score'].fillna(0)\n",
    "dfClean2.info()"
   ]
  }
 ],
 "metadata": {
  "kernelspec": {
   "display_name": "Python 3",
   "language": "python",
   "name": "python3"
  },
  "language_info": {
   "codemirror_mode": {
    "name": "ipython",
    "version": 3
   },
   "file_extension": ".py",
   "mimetype": "text/x-python",
   "name": "python",
   "nbconvert_exporter": "python",
   "pygments_lexer": "ipython3",
   "version": "3.11.1"
  },
  "orig_nbformat": 4
 },
 "nbformat": 4,
 "nbformat_minor": 2
}
